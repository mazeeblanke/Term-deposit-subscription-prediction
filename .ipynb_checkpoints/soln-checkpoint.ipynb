{
 "cells": [
  {
   "cell_type": "code",
   "execution_count": 34,
   "metadata": {},
   "outputs": [],
   "source": [
    "# Handle/Filter warnings\n",
    "import warnings\n",
    "warnings.filterwarnings('ignore')\n",
    "\n",
    "import numpy as np\n",
    "import pandas as pd\n",
    "import matplotlib.pyplot as plt\n",
    "import seaborn as sns\n",
    "\n",
    "from sklearn.model_selection import train_test_split\n",
    "\n",
    "%matplotlib inline\n",
    "\n",
    "from sklearn import metrics\n",
    "# from yellowbrick.classifier import ClassificationReport, ROCAUC"
   ]
  },
  {
   "cell_type": "code",
   "execution_count": 35,
   "metadata": {},
   "outputs": [
    {
     "data": {
      "text/html": [
       "<div>\n",
       "<style scoped>\n",
       "    .dataframe tbody tr th:only-of-type {\n",
       "        vertical-align: middle;\n",
       "    }\n",
       "\n",
       "    .dataframe tbody tr th {\n",
       "        vertical-align: top;\n",
       "    }\n",
       "\n",
       "    .dataframe thead th {\n",
       "        text-align: right;\n",
       "    }\n",
       "</style>\n",
       "<table border=\"1\" class=\"dataframe\">\n",
       "  <thead>\n",
       "    <tr style=\"text-align: right;\">\n",
       "      <th></th>\n",
       "      <th>age</th>\n",
       "      <th>job</th>\n",
       "      <th>marital</th>\n",
       "      <th>education</th>\n",
       "      <th>default</th>\n",
       "      <th>balance</th>\n",
       "      <th>housing</th>\n",
       "      <th>loan</th>\n",
       "      <th>contact</th>\n",
       "      <th>day</th>\n",
       "      <th>month</th>\n",
       "      <th>duration</th>\n",
       "      <th>campaign</th>\n",
       "      <th>pdays</th>\n",
       "      <th>previous</th>\n",
       "      <th>poutcome</th>\n",
       "      <th>Target</th>\n",
       "    </tr>\n",
       "  </thead>\n",
       "  <tbody>\n",
       "    <tr>\n",
       "      <th>0</th>\n",
       "      <td>58</td>\n",
       "      <td>management</td>\n",
       "      <td>married</td>\n",
       "      <td>tertiary</td>\n",
       "      <td>no</td>\n",
       "      <td>2143</td>\n",
       "      <td>yes</td>\n",
       "      <td>no</td>\n",
       "      <td>unknown</td>\n",
       "      <td>5</td>\n",
       "      <td>may</td>\n",
       "      <td>261</td>\n",
       "      <td>1</td>\n",
       "      <td>-1</td>\n",
       "      <td>0</td>\n",
       "      <td>unknown</td>\n",
       "      <td>no</td>\n",
       "    </tr>\n",
       "    <tr>\n",
       "      <th>1</th>\n",
       "      <td>44</td>\n",
       "      <td>technician</td>\n",
       "      <td>single</td>\n",
       "      <td>secondary</td>\n",
       "      <td>no</td>\n",
       "      <td>29</td>\n",
       "      <td>yes</td>\n",
       "      <td>no</td>\n",
       "      <td>unknown</td>\n",
       "      <td>5</td>\n",
       "      <td>may</td>\n",
       "      <td>151</td>\n",
       "      <td>1</td>\n",
       "      <td>-1</td>\n",
       "      <td>0</td>\n",
       "      <td>unknown</td>\n",
       "      <td>no</td>\n",
       "    </tr>\n",
       "    <tr>\n",
       "      <th>2</th>\n",
       "      <td>33</td>\n",
       "      <td>entrepreneur</td>\n",
       "      <td>married</td>\n",
       "      <td>secondary</td>\n",
       "      <td>no</td>\n",
       "      <td>2</td>\n",
       "      <td>yes</td>\n",
       "      <td>yes</td>\n",
       "      <td>unknown</td>\n",
       "      <td>5</td>\n",
       "      <td>may</td>\n",
       "      <td>76</td>\n",
       "      <td>1</td>\n",
       "      <td>-1</td>\n",
       "      <td>0</td>\n",
       "      <td>unknown</td>\n",
       "      <td>no</td>\n",
       "    </tr>\n",
       "    <tr>\n",
       "      <th>3</th>\n",
       "      <td>47</td>\n",
       "      <td>blue-collar</td>\n",
       "      <td>married</td>\n",
       "      <td>unknown</td>\n",
       "      <td>no</td>\n",
       "      <td>1506</td>\n",
       "      <td>yes</td>\n",
       "      <td>no</td>\n",
       "      <td>unknown</td>\n",
       "      <td>5</td>\n",
       "      <td>may</td>\n",
       "      <td>92</td>\n",
       "      <td>1</td>\n",
       "      <td>-1</td>\n",
       "      <td>0</td>\n",
       "      <td>unknown</td>\n",
       "      <td>no</td>\n",
       "    </tr>\n",
       "    <tr>\n",
       "      <th>4</th>\n",
       "      <td>33</td>\n",
       "      <td>unknown</td>\n",
       "      <td>single</td>\n",
       "      <td>unknown</td>\n",
       "      <td>no</td>\n",
       "      <td>1</td>\n",
       "      <td>no</td>\n",
       "      <td>no</td>\n",
       "      <td>unknown</td>\n",
       "      <td>5</td>\n",
       "      <td>may</td>\n",
       "      <td>198</td>\n",
       "      <td>1</td>\n",
       "      <td>-1</td>\n",
       "      <td>0</td>\n",
       "      <td>unknown</td>\n",
       "      <td>no</td>\n",
       "    </tr>\n",
       "  </tbody>\n",
       "</table>\n",
       "</div>"
      ],
      "text/plain": [
       "   age           job  marital  education default  balance housing loan  \\\n",
       "0   58    management  married   tertiary      no     2143     yes   no   \n",
       "1   44    technician   single  secondary      no       29     yes   no   \n",
       "2   33  entrepreneur  married  secondary      no        2     yes  yes   \n",
       "3   47   blue-collar  married    unknown      no     1506     yes   no   \n",
       "4   33       unknown   single    unknown      no        1      no   no   \n",
       "\n",
       "   contact  day month  duration  campaign  pdays  previous poutcome Target  \n",
       "0  unknown    5   may       261         1     -1         0  unknown     no  \n",
       "1  unknown    5   may       151         1     -1         0  unknown     no  \n",
       "2  unknown    5   may        76         1     -1         0  unknown     no  \n",
       "3  unknown    5   may        92         1     -1         0  unknown     no  \n",
       "4  unknown    5   may       198         1     -1         0  unknown     no  "
      ]
     },
     "execution_count": 35,
     "metadata": {},
     "output_type": "execute_result"
    }
   ],
   "source": [
    "df = pd.read_csv('bank-full.csv')\n",
    "\n",
    "df.head()"
   ]
  },
  {
   "cell_type": "markdown",
   "metadata": {},
   "source": [
    "# Exploratory data quality report"
   ]
  },
  {
   "cell_type": "markdown",
   "metadata": {},
   "source": [
    "##### shape of the data"
   ]
  },
  {
   "cell_type": "code",
   "execution_count": 36,
   "metadata": {},
   "outputs": [
    {
     "data": {
      "text/plain": [
       "(45211, 17)"
      ]
     },
     "execution_count": 36,
     "metadata": {},
     "output_type": "execute_result"
    }
   ],
   "source": [
    "\n",
    "df.shape"
   ]
  },
  {
   "cell_type": "markdown",
   "metadata": {},
   "source": [
    " ##### Check info/description\n",
    " The information shows that there are 17 variables and 45211 observations. \n",
    " All the variables have 45211 records, indicating that there is no missing value in the data, \n",
    " although there might be wrongly entered data or errors, which can also lead to outliers"
   ]
  },
  {
   "cell_type": "code",
   "execution_count": 37,
   "metadata": {},
   "outputs": [
    {
     "name": "stdout",
     "output_type": "stream",
     "text": [
      "<class 'pandas.core.frame.DataFrame'>\n",
      "RangeIndex: 45211 entries, 0 to 45210\n",
      "Data columns (total 17 columns):\n",
      "age          45211 non-null int64\n",
      "job          45211 non-null object\n",
      "marital      45211 non-null object\n",
      "education    45211 non-null object\n",
      "default      45211 non-null object\n",
      "balance      45211 non-null int64\n",
      "housing      45211 non-null object\n",
      "loan         45211 non-null object\n",
      "contact      45211 non-null object\n",
      "day          45211 non-null int64\n",
      "month        45211 non-null object\n",
      "duration     45211 non-null int64\n",
      "campaign     45211 non-null int64\n",
      "pdays        45211 non-null int64\n",
      "previous     45211 non-null int64\n",
      "poutcome     45211 non-null object\n",
      "Target       45211 non-null object\n",
      "dtypes: int64(7), object(10)\n",
      "memory usage: 5.9+ MB\n"
     ]
    }
   ],
   "source": [
    "df.info()"
   ]
  },
  {
   "cell_type": "code",
   "execution_count": 38,
   "metadata": {},
   "outputs": [
    {
     "name": "stdout",
     "output_type": "stream",
     "text": [
      "age           int64\n",
      "job          object\n",
      "marital      object\n",
      "education    object\n",
      "default      object\n",
      "balance       int64\n",
      "housing      object\n",
      "loan         object\n",
      "contact      object\n",
      "day           int64\n",
      "month        object\n",
      "duration      int64\n",
      "campaign      int64\n",
      "pdays         int64\n",
      "previous      int64\n",
      "poutcome     object\n",
      "Target       object\n",
      "dtype: object\n"
     ]
    },
    {
     "data": {
      "text/plain": [
       "age          False\n",
       "job          False\n",
       "marital      False\n",
       "education    False\n",
       "default      False\n",
       "balance      False\n",
       "housing      False\n",
       "loan         False\n",
       "contact      False\n",
       "day          False\n",
       "month        False\n",
       "duration     False\n",
       "campaign     False\n",
       "pdays        False\n",
       "previous     False\n",
       "poutcome     False\n",
       "Target       False\n",
       "dtype: bool"
      ]
     },
     "execution_count": 38,
     "metadata": {},
     "output_type": "execute_result"
    }
   ],
   "source": [
    "# data types\n",
    "print df.dtypes\n",
    "\n",
    "df.isnull().any()"
   ]
  },
  {
   "cell_type": "markdown",
   "metadata": {},
   "source": [
    "#### Missing values\n",
    "There is no missing value, however we might have some wrong values like unknown or etc which can lead to outliers, so we will check for outliers next"
   ]
  },
  {
   "cell_type": "code",
   "execution_count": 39,
   "metadata": {},
   "outputs": [
    {
     "name": "stdout",
     "output_type": "stream",
     "text": [
      "Value counts for age\n",
      "32    2085\n",
      "31    1996\n",
      "33    1972\n",
      "34    1930\n",
      "35    1894\n",
      "36    1806\n",
      "30    1757\n",
      "37    1696\n",
      "39    1487\n",
      "38    1466\n",
      "40    1355\n",
      "41    1291\n",
      "42    1242\n",
      "45    1216\n",
      "29    1185\n",
      "46    1175\n",
      "43    1161\n",
      "44    1136\n",
      "47    1088\n",
      "28    1038\n",
      "48     997\n",
      "49     994\n",
      "50     939\n",
      "51     936\n",
      "52     911\n",
      "27     909\n",
      "53     891\n",
      "57     828\n",
      "54     811\n",
      "55     806\n",
      "      ... \n",
      "67      54\n",
      "71      54\n",
      "72      52\n",
      "20      50\n",
      "77      44\n",
      "73      44\n",
      "69      44\n",
      "75      39\n",
      "74      37\n",
      "68      36\n",
      "19      35\n",
      "76      32\n",
      "80      31\n",
      "78      30\n",
      "79      25\n",
      "83      22\n",
      "82      19\n",
      "81      17\n",
      "18      12\n",
      "84       9\n",
      "86       9\n",
      "85       5\n",
      "87       4\n",
      "89       3\n",
      "88       2\n",
      "90       2\n",
      "92       2\n",
      "93       2\n",
      "95       2\n",
      "94       1\n",
      "Name: age, Length: 77, dtype: int64\n",
      "\n",
      "\n",
      "\n",
      "Value counts for job\n",
      "blue-collar      9732\n",
      "management       9458\n",
      "technician       7597\n",
      "admin.           5171\n",
      "services         4154\n",
      "retired          2264\n",
      "self-employed    1579\n",
      "entrepreneur     1487\n",
      "unemployed       1303\n",
      "housemaid        1240\n",
      "student           938\n",
      "unknown           288\n",
      "Name: job, dtype: int64\n",
      "\n",
      "\n",
      "\n",
      "Value counts for marital\n",
      "married     27214\n",
      "single      12790\n",
      "divorced     5207\n",
      "Name: marital, dtype: int64\n",
      "\n",
      "\n",
      "\n",
      "Value counts for education\n",
      "secondary    23202\n",
      "tertiary     13301\n",
      "primary       6851\n",
      "unknown       1857\n",
      "Name: education, dtype: int64\n",
      "\n",
      "\n",
      "\n",
      "Value counts for default\n",
      "no     44396\n",
      "yes      815\n",
      "Name: default, dtype: int64\n",
      "\n",
      "\n",
      "\n",
      "Value counts for balance\n",
      " 0        3514\n",
      " 1         195\n",
      " 2         156\n",
      " 4         139\n",
      " 3         134\n",
      " 5         113\n",
      " 6          88\n",
      " 8          81\n",
      " 23         75\n",
      " 10         69\n",
      " 7          69\n",
      " 11         65\n",
      " 25         63\n",
      " 20         62\n",
      " 19         60\n",
      " 15         59\n",
      " 47         59\n",
      " 21         59\n",
      " 49         59\n",
      " 33         58\n",
      " 13         57\n",
      " 53         56\n",
      " 16         56\n",
      " 24         55\n",
      " 79         55\n",
      " 91         54\n",
      " 145        54\n",
      " 46         54\n",
      " 9          54\n",
      " 14         53\n",
      "          ... \n",
      " 6205        1\n",
      " 6320        1\n",
      " 4394        1\n",
      " 2327        1\n",
      " 4404        1\n",
      " 8460        1\n",
      " 29312       1\n",
      " 4362        1\n",
      "-2049        1\n",
      " 17332       1\n",
      " 2633        1\n",
      " 6571        1\n",
      " 1338        1\n",
      "-568         1\n",
      " 8402        1\n",
      " 8863        1\n",
      " 10451       1\n",
      " 29184       1\n",
      " 13242       1\n",
      " 4586        1\n",
      " 51439       1\n",
      " 4092        1\n",
      "-472         1\n",
      " 8652        1\n",
      " 4554        1\n",
      " 4305        1\n",
      " 6352        1\n",
      " 18881       1\n",
      " 14889       1\n",
      " 7218        1\n",
      "Name: balance, Length: 7168, dtype: int64\n",
      "\n",
      "\n",
      "\n",
      "Value counts for housing\n",
      "yes    25130\n",
      "no     20081\n",
      "Name: housing, dtype: int64\n",
      "\n",
      "\n",
      "\n",
      "Value counts for loan\n",
      "no     37967\n",
      "yes     7244\n",
      "Name: loan, dtype: int64\n",
      "\n",
      "\n",
      "\n",
      "Value counts for contact\n",
      "cellular     29285\n",
      "unknown      13020\n",
      "telephone     2906\n",
      "Name: contact, dtype: int64\n",
      "\n",
      "\n",
      "\n",
      "Value counts for day\n",
      "20    2752\n",
      "18    2308\n",
      "21    2026\n",
      "17    1939\n",
      "6     1932\n",
      "5     1910\n",
      "14    1848\n",
      "8     1842\n",
      "28    1830\n",
      "7     1817\n",
      "19    1757\n",
      "29    1745\n",
      "15    1703\n",
      "12    1603\n",
      "13    1585\n",
      "30    1566\n",
      "9     1561\n",
      "11    1479\n",
      "4     1445\n",
      "16    1415\n",
      "2     1293\n",
      "27    1121\n",
      "3     1079\n",
      "26    1035\n",
      "23     939\n",
      "22     905\n",
      "25     840\n",
      "31     643\n",
      "10     524\n",
      "24     447\n",
      "1      322\n",
      "Name: day, dtype: int64\n",
      "\n",
      "\n",
      "\n",
      "Value counts for month\n",
      "may    13766\n",
      "jul     6895\n",
      "aug     6247\n",
      "jun     5341\n",
      "nov     3970\n",
      "apr     2932\n",
      "feb     2649\n",
      "jan     1403\n",
      "oct      738\n",
      "sep      579\n",
      "mar      477\n",
      "dec      214\n",
      "Name: month, dtype: int64\n",
      "\n",
      "\n",
      "\n",
      "Value counts for duration\n",
      "124     188\n",
      "90      184\n",
      "89      177\n",
      "122     175\n",
      "104     175\n",
      "114     175\n",
      "136     174\n",
      "112     174\n",
      "139     174\n",
      "121     173\n",
      "91      170\n",
      "119     170\n",
      "88      170\n",
      "103     169\n",
      "92      168\n",
      "123     168\n",
      "97      168\n",
      "111     166\n",
      "73      166\n",
      "85      166\n",
      "113     166\n",
      "81      166\n",
      "125     165\n",
      "82      165\n",
      "108     165\n",
      "106     165\n",
      "80      164\n",
      "87      163\n",
      "101     163\n",
      "126     163\n",
      "       ... \n",
      "1255      1\n",
      "3366      1\n",
      "1319      1\n",
      "1298      1\n",
      "1650      1\n",
      "2485      1\n",
      "947       1\n",
      "2453      1\n",
      "2389      1\n",
      "1971      1\n",
      "1875      1\n",
      "1491      1\n",
      "1395      1\n",
      "1331      1\n",
      "934       1\n",
      "1107      1\n",
      "1158      1\n",
      "1254      1\n",
      "1778      1\n",
      "1286      1\n",
      "1318      1\n",
      "1478      1\n",
      "1606      1\n",
      "1702      1\n",
      "2770      1\n",
      "2150      1\n",
      "1970      1\n",
      "1906      1\n",
      "1842      1\n",
      "2015      1\n",
      "Name: duration, Length: 1573, dtype: int64\n",
      "\n",
      "\n",
      "\n",
      "Value counts for campaign\n",
      "1     17544\n",
      "2     12505\n",
      "3      5521\n",
      "4      3522\n",
      "5      1764\n",
      "6      1291\n",
      "7       735\n",
      "8       540\n",
      "9       327\n",
      "10      266\n",
      "11      201\n",
      "12      155\n",
      "13      133\n",
      "14       93\n",
      "15       84\n",
      "16       79\n",
      "17       69\n",
      "18       51\n",
      "19       44\n",
      "20       43\n",
      "21       35\n",
      "22       23\n",
      "23       22\n",
      "25       22\n",
      "24       20\n",
      "28       16\n",
      "29       16\n",
      "26       13\n",
      "31       12\n",
      "27       10\n",
      "32        9\n",
      "30        8\n",
      "33        6\n",
      "34        5\n",
      "36        4\n",
      "35        4\n",
      "43        3\n",
      "38        3\n",
      "41        2\n",
      "50        2\n",
      "37        2\n",
      "51        1\n",
      "55        1\n",
      "46        1\n",
      "58        1\n",
      "44        1\n",
      "39        1\n",
      "63        1\n",
      "Name: campaign, dtype: int64\n",
      "\n",
      "\n",
      "\n",
      "Value counts for pdays\n",
      "-1      36954\n",
      " 182      167\n",
      " 92       147\n",
      " 183      126\n",
      " 91       126\n",
      " 181      117\n",
      " 370       99\n",
      " 184       85\n",
      " 364       77\n",
      " 95        74\n",
      " 350       73\n",
      " 94        72\n",
      " 175       71\n",
      " 185       68\n",
      " 93        65\n",
      " 343       65\n",
      " 188       64\n",
      " 189       60\n",
      " 186       60\n",
      " 174       57\n",
      " 96        57\n",
      " 349       57\n",
      " 363       55\n",
      " 97        54\n",
      " 90        54\n",
      " 196       51\n",
      " 365       51\n",
      " 368       49\n",
      " 342       49\n",
      " 98        49\n",
      "        ...  \n",
      " 774        1\n",
      " 550        1\n",
      " 396        1\n",
      " 492        1\n",
      " 466        1\n",
      " 45         1\n",
      " 434        1\n",
      " 18         1\n",
      " 529        1\n",
      " 465        1\n",
      " 401        1\n",
      " 784        1\n",
      " 656        1\n",
      " 592        1\n",
      " 528        1\n",
      " 464        1\n",
      " 432        1\n",
      " 655        1\n",
      " 495        1\n",
      " 543        1\n",
      " 47         1\n",
      " 782        1\n",
      " 686        1\n",
      " 558        1\n",
      " 526        1\n",
      " 749        1\n",
      " 717        1\n",
      " 589        1\n",
      " 493        1\n",
      " 32         1\n",
      "Name: pdays, Length: 559, dtype: int64\n",
      "\n",
      "\n",
      "\n",
      "Value counts for previous\n",
      "0      36954\n",
      "1       2772\n",
      "2       2106\n",
      "3       1142\n",
      "4        714\n",
      "5        459\n",
      "6        277\n",
      "7        205\n",
      "8        129\n",
      "9         92\n",
      "10        67\n",
      "11        65\n",
      "12        44\n",
      "13        38\n",
      "15        20\n",
      "14        19\n",
      "17        15\n",
      "16        13\n",
      "19        11\n",
      "23         8\n",
      "20         8\n",
      "22         6\n",
      "18         6\n",
      "24         5\n",
      "27         5\n",
      "29         4\n",
      "25         4\n",
      "21         4\n",
      "30         3\n",
      "28         2\n",
      "26         2\n",
      "37         2\n",
      "38         2\n",
      "55         1\n",
      "40         1\n",
      "35         1\n",
      "58         1\n",
      "51         1\n",
      "41         1\n",
      "32         1\n",
      "275        1\n",
      "Name: previous, dtype: int64\n",
      "\n",
      "\n",
      "\n",
      "Value counts for poutcome\n",
      "unknown    36959\n",
      "failure     4901\n",
      "other       1840\n",
      "success     1511\n",
      "Name: poutcome, dtype: int64\n",
      "\n",
      "\n",
      "\n",
      "Value counts for Target\n",
      "no     39922\n",
      "yes     5289\n",
      "Name: Target, dtype: int64\n",
      "\n",
      "\n",
      "\n"
     ]
    }
   ],
   "source": [
    "# taking a count of the values\n",
    "# Value counts of allcolumns\n",
    "\n",
    "for index, value in enumerate(df.columns):\n",
    "    print 'Value counts for', value\n",
    "    print df[value].value_counts()\n",
    "    print '\\n\\n'"
   ]
  },
  {
   "cell_type": "code",
   "execution_count": null,
   "metadata": {},
   "outputs": [],
   "source": []
  },
  {
   "cell_type": "markdown",
   "metadata": {},
   "source": [
    "##### Description of the data\n",
    " This is the begining of outlier detection as we can inspect the values from the table below\n",
    " We can see that the minimum value for 'balance' is -8019, which looks like an error/outlier"
   ]
  },
  {
   "cell_type": "code",
   "execution_count": 40,
   "metadata": {},
   "outputs": [
    {
     "data": {
      "text/html": [
       "<div>\n",
       "<style scoped>\n",
       "    .dataframe tbody tr th:only-of-type {\n",
       "        vertical-align: middle;\n",
       "    }\n",
       "\n",
       "    .dataframe tbody tr th {\n",
       "        vertical-align: top;\n",
       "    }\n",
       "\n",
       "    .dataframe thead th {\n",
       "        text-align: right;\n",
       "    }\n",
       "</style>\n",
       "<table border=\"1\" class=\"dataframe\">\n",
       "  <thead>\n",
       "    <tr style=\"text-align: right;\">\n",
       "      <th></th>\n",
       "      <th>age</th>\n",
       "      <th>balance</th>\n",
       "      <th>day</th>\n",
       "      <th>duration</th>\n",
       "      <th>campaign</th>\n",
       "      <th>pdays</th>\n",
       "      <th>previous</th>\n",
       "    </tr>\n",
       "  </thead>\n",
       "  <tbody>\n",
       "    <tr>\n",
       "      <th>count</th>\n",
       "      <td>45211.000000</td>\n",
       "      <td>45211.000000</td>\n",
       "      <td>45211.000000</td>\n",
       "      <td>45211.000000</td>\n",
       "      <td>45211.000000</td>\n",
       "      <td>45211.000000</td>\n",
       "      <td>45211.000000</td>\n",
       "    </tr>\n",
       "    <tr>\n",
       "      <th>mean</th>\n",
       "      <td>40.936210</td>\n",
       "      <td>1362.272058</td>\n",
       "      <td>15.806419</td>\n",
       "      <td>258.163080</td>\n",
       "      <td>2.763841</td>\n",
       "      <td>40.197828</td>\n",
       "      <td>0.580323</td>\n",
       "    </tr>\n",
       "    <tr>\n",
       "      <th>std</th>\n",
       "      <td>10.618762</td>\n",
       "      <td>3044.765829</td>\n",
       "      <td>8.322476</td>\n",
       "      <td>257.527812</td>\n",
       "      <td>3.098021</td>\n",
       "      <td>100.128746</td>\n",
       "      <td>2.303441</td>\n",
       "    </tr>\n",
       "    <tr>\n",
       "      <th>min</th>\n",
       "      <td>18.000000</td>\n",
       "      <td>-8019.000000</td>\n",
       "      <td>1.000000</td>\n",
       "      <td>0.000000</td>\n",
       "      <td>1.000000</td>\n",
       "      <td>-1.000000</td>\n",
       "      <td>0.000000</td>\n",
       "    </tr>\n",
       "    <tr>\n",
       "      <th>25%</th>\n",
       "      <td>33.000000</td>\n",
       "      <td>72.000000</td>\n",
       "      <td>8.000000</td>\n",
       "      <td>103.000000</td>\n",
       "      <td>1.000000</td>\n",
       "      <td>-1.000000</td>\n",
       "      <td>0.000000</td>\n",
       "    </tr>\n",
       "    <tr>\n",
       "      <th>50%</th>\n",
       "      <td>39.000000</td>\n",
       "      <td>448.000000</td>\n",
       "      <td>16.000000</td>\n",
       "      <td>180.000000</td>\n",
       "      <td>2.000000</td>\n",
       "      <td>-1.000000</td>\n",
       "      <td>0.000000</td>\n",
       "    </tr>\n",
       "    <tr>\n",
       "      <th>75%</th>\n",
       "      <td>48.000000</td>\n",
       "      <td>1428.000000</td>\n",
       "      <td>21.000000</td>\n",
       "      <td>319.000000</td>\n",
       "      <td>3.000000</td>\n",
       "      <td>-1.000000</td>\n",
       "      <td>0.000000</td>\n",
       "    </tr>\n",
       "    <tr>\n",
       "      <th>max</th>\n",
       "      <td>95.000000</td>\n",
       "      <td>102127.000000</td>\n",
       "      <td>31.000000</td>\n",
       "      <td>4918.000000</td>\n",
       "      <td>63.000000</td>\n",
       "      <td>871.000000</td>\n",
       "      <td>275.000000</td>\n",
       "    </tr>\n",
       "  </tbody>\n",
       "</table>\n",
       "</div>"
      ],
      "text/plain": [
       "                age        balance           day      duration      campaign  \\\n",
       "count  45211.000000   45211.000000  45211.000000  45211.000000  45211.000000   \n",
       "mean      40.936210    1362.272058     15.806419    258.163080      2.763841   \n",
       "std       10.618762    3044.765829      8.322476    257.527812      3.098021   \n",
       "min       18.000000   -8019.000000      1.000000      0.000000      1.000000   \n",
       "25%       33.000000      72.000000      8.000000    103.000000      1.000000   \n",
       "50%       39.000000     448.000000     16.000000    180.000000      2.000000   \n",
       "75%       48.000000    1428.000000     21.000000    319.000000      3.000000   \n",
       "max       95.000000  102127.000000     31.000000   4918.000000     63.000000   \n",
       "\n",
       "              pdays      previous  \n",
       "count  45211.000000  45211.000000  \n",
       "mean      40.197828      0.580323  \n",
       "std      100.128746      2.303441  \n",
       "min       -1.000000      0.000000  \n",
       "25%       -1.000000      0.000000  \n",
       "50%       -1.000000      0.000000  \n",
       "75%       -1.000000      0.000000  \n",
       "max      871.000000    275.000000  "
      ]
     },
     "execution_count": 40,
     "metadata": {},
     "output_type": "execute_result"
    }
   ],
   "source": [
    "df.describe()"
   ]
  },
  {
   "cell_type": "markdown",
   "metadata": {},
   "source": [
    "#### Detecting outliers using Skewness"
   ]
  },
  {
   "cell_type": "code",
   "execution_count": 41,
   "metadata": {},
   "outputs": [
    {
     "name": "stdout",
     "output_type": "stream",
     "text": [
      "age : 0.6848179257252598\n",
      "\n",
      "balance : 8.360308326166326\n",
      "\n",
      "day : 0.09307901402122411\n",
      "\n",
      "duration : 3.144318099423456\n",
      "\n",
      "campaign : 4.898650166179674\n",
      "\n",
      "pdays : 2.6157154736563477\n",
      "\n",
      "previous : 41.84645447266292\n",
      "\n"
     ]
    }
   ],
   "source": [
    "for column in ['age', 'balance', 'day', 'duration', 'campaign', 'pdays', 'previous']:\n",
    "    print column, \":\", df[column].skew()\n",
    "    print"
   ]
  },
  {
   "cell_type": "markdown",
   "metadata": {},
   "source": []
  },
  {
   "cell_type": "markdown",
   "metadata": {},
   "source": [
    "The skewness value should be btw -1 and 1 if the data is normally distributed    \n",
    "from the information of the skewness value, balance is skewed to the right, therefore contains outliers \n",
    "from the information of the skewness value, previous is very skewed to the right, therefore contains outliers \n",
    "from the information of the skewness value, campaign is skewed to the right, therefore contains outliers  \n",
    "from the information of the skewness value, duration is skewed to the right, therefore contains outliers\n",
    "from the information of the skewness value, pdays is also skewed\n",
    "\n",
    "from the information of the skewness value, day is not skewed, therefore contains no outliers"
   ]
  },
  {
   "cell_type": "markdown",
   "metadata": {},
   "source": [
    "#### Detecting outliers using graph"
   ]
  },
  {
   "cell_type": "code",
   "execution_count": 42,
   "metadata": {},
   "outputs": [
    {
     "data": {
      "text/plain": [
       "<matplotlib.axes._subplots.AxesSubplot at 0x1a32d15ed0>"
      ]
     },
     "execution_count": 42,
     "metadata": {},
     "output_type": "execute_result"
    },
    {
     "data": {
      "image/png": "[encoded data removed]",
      "text/plain": [
       "<Figure size 1440x360 with 1 Axes>"
      ]
     },
     "metadata": {
      "needs_background": "light"
     },
     "output_type": "display_data"
    }
   ],
   "source": [
    "plt.figure(figsize=(20,5))\n",
    "sns.distplot(df['age'])"
   ]
  },
  {
   "cell_type": "code",
   "execution_count": 43,
   "metadata": {},
   "outputs": [
    {
     "data": {
      "image/png": "[encoded data removed]",
      "text/plain": [
       "<Figure size 432x288 with 1 Axes>"
      ]
     },
     "metadata": {
      "needs_background": "light"
     },
     "output_type": "display_data"
    },
    {
     "data": {
      "image/png": "[encoded data removed]",
      "text/plain": [
       "<Figure size 432x288 with 1 Axes>"
      ]
     },
     "metadata": {
      "needs_background": "light"
     },
     "output_type": "display_data"
    },
    {
     "data": {
      "image/png": "[encoded data removed]",
      "text/plain": [
       "<Figure size 432x288 with 1 Axes>"
      ]
     },
     "metadata": {
      "needs_background": "light"
     },
     "output_type": "display_data"
    },
    {
     "data": {
      "image/png": "[encoded data removed]",
      "text/plain": [
       "<Figure size 432x288 with 1 Axes>"
      ]
     },
     "metadata": {
      "needs_background": "light"
     },
     "output_type": "display_data"
    },
    {
     "data": {
      "image/png": "[encoded data removed]",
      "text/plain": [
       "<Figure size 432x288 with 1 Axes>"
      ]
     },
     "metadata": {
      "needs_background": "light"
     },
     "output_type": "display_data"
    },
    {
     "data": {
      "image/png": "[encoded data removed]",
      "text/plain": [
       "<Figure size 432x288 with 1 Axes>"
      ]
     },
     "metadata": {
      "needs_background": "light"
     },
     "output_type": "display_data"
    },
    {
     "data": {
      "image/png": "[encoded data removed]",
      "text/plain": [
       "<Figure size 432x288 with 1 Axes>"
      ]
     },
     "metadata": {
      "needs_background": "light"
     },
     "output_type": "display_data"
    }
   ],
   "source": [
    "def plotBox (column):\n",
    "    sns.boxplot(x=df[column])\n",
    "    plt.show()\n",
    "    \n",
    "    \n",
    "for column in ['age', 'balance', 'day', 'duration', 'campaign', 'pdays', 'previous']:\n",
    "    plotBox(column)\n",
    "    "
   ]
  },
  {
   "cell_type": "markdown",
   "metadata": {},
   "source": [
    "### Age has  outliers on the right\n",
    "### Balance has few outliers to the left, and lots of outliers on the right\n",
    "### Day does not have outliers\n",
    "### Duration has lots of outliers to the right\n",
    "### Campaign has outliers to the right\n",
    "### Pdays has outliers\n",
    "### Previous has outliers"
   ]
  },
  {
   "cell_type": "markdown",
   "metadata": {},
   "source": [
    "## Handling Data pollution"
   ]
  },
  {
   "cell_type": "markdown",
   "metadata": {},
   "source": [
    "#### From all indictions, we have some wrong/polluted data in our dataset, we can that by:\n",
    "#### 1) Replacing them with Nan, and later dropping them\n",
    "#### 2) Replacing them with a central value, such as median, mean, mode\n",
    "#### 3) Leave them untouched and get dummy variable created for them. They might not be missing values and might present some insights that the model can capture.\n",
    "\n",
    "#### In this case i will be replacing them with nan, then droping all nan values\n",
    "\n",
    "#### Since its always better to work with numerical values rather than categorical/object we will also convert the columns\n"
   ]
  },
  {
   "cell_type": "code",
   "execution_count": 44,
   "metadata": {},
   "outputs": [],
   "source": [
    "# converting job column\n",
    "df['job'] = df['job'].replace({\n",
    "    'blue-collar': 0,\n",
    "    'management': 1,\n",
    "    'technician': 2,\n",
    "    'admin.': 3,\n",
    "    'services': 4,\n",
    "    'retired': 5,\n",
    "    'self-employed': 6,\n",
    "    'entrepreneur': 7,\n",
    "    'unemployed': 8,\n",
    "    'housemaid': 9,\n",
    "    'student': 10,\n",
    "    'unknown': np.nan\n",
    "})\n",
    "# df['job'].dropna(inplace=True)\n",
    "\n",
    "# converting marital column\n",
    "df['marital'] = df['marital'].replace({\n",
    "    'married': 0,\n",
    "    'single': 1,\n",
    "    'divorced': 2\n",
    "})\n",
    "# df['marital'].dropna(inplace=True)\n",
    "\n",
    "# converting education column\n",
    "df['education'] = df['education'].replace({\n",
    "    'secondary': 0,\n",
    "    'tertiary': 1,\n",
    "    'primary': 2,\n",
    "    'unknown': 3\n",
    "})\n",
    "# df['education'].dropna(inplace=True)\n",
    "\n",
    "# converting default column\n",
    "df['default'] = df['default'].replace({\n",
    "    'no': 0,\n",
    "    'yes': 1\n",
    "})\n",
    "\n",
    "# converting housing column\n",
    "df['housing'] = df['housing'].replace({\n",
    "    'yes': 1,\n",
    "    'no': 0\n",
    "})\n",
    "\n",
    "# converting loan column\n",
    "df['loan'] = df['loan'].replace({\n",
    "    'no': 0,\n",
    "    'yes': 1\n",
    "})\n",
    "\n",
    "# converting contact column\n",
    "df['contact'] = df['contact'].replace({\n",
    "    'cellular': 0,\n",
    "    'unknown': np.nan,\n",
    "    'telephone': 1\n",
    "})\n",
    "\n",
    "# converting month column\n",
    "df['month'] = df['month'].replace({\n",
    "    'may': 4,\n",
    "    'jul': 6,\n",
    "    'aug': 7,\n",
    "    'jun': 5,\n",
    "    'nov': 10,\n",
    "    'apr': 3,\n",
    "    'feb': 1,\n",
    "    'jan': 0,\n",
    "    'oct': 9,\n",
    "    'sep': 8,\n",
    "    'mar': 2,\n",
    "    'dec': 11,\n",
    "})\n",
    "\n",
    "# converting poutcome column\n",
    "df['poutcome'] = df['poutcome'].replace({\n",
    "    'unknown': np.nan,\n",
    "    'failure': 0,\n",
    "    'other': 1,\n",
    "    'success': 2\n",
    "})\n",
    "\n",
    "# converting target column\n",
    "df['Target'] = df['Target'].replace({\n",
    "    'no': 0,\n",
    "    'yes': 1\n",
    "})\n"
   ]
  },
  {
   "cell_type": "markdown",
   "metadata": {},
   "source": [
    "I noticed that there are negative values in balance, I will assume its a mistake and tske the positive version of the values. also, pdays has a negative value, -1, on puropse to denote a person has not been contacted or contact period is beyond 900 days so we will leave as is"
   ]
  },
  {
   "cell_type": "code",
   "execution_count": 45,
   "metadata": {},
   "outputs": [],
   "source": [
    "df['balance'] = df['balance'].abs()"
   ]
  },
  {
   "cell_type": "markdown",
   "metadata": {},
   "source": [
    "check for nan values again, we should have nan values now"
   ]
  },
  {
   "cell_type": "code",
   "execution_count": 46,
   "metadata": {},
   "outputs": [
    {
     "data": {
      "text/plain": [
       "age          False\n",
       "job           True\n",
       "marital      False\n",
       "education    False\n",
       "default      False\n",
       "balance      False\n",
       "housing      False\n",
       "loan         False\n",
       "contact       True\n",
       "day          False\n",
       "month        False\n",
       "duration     False\n",
       "campaign     False\n",
       "pdays        False\n",
       "previous     False\n",
       "poutcome      True\n",
       "Target       False\n",
       "dtype: bool"
      ]
     },
     "execution_count": 46,
     "metadata": {},
     "output_type": "execute_result"
    }
   ],
   "source": [
    "df.isnull().any()"
   ]
  },
  {
   "cell_type": "markdown",
   "metadata": {},
   "source": [
    "drop nan columns"
   ]
  },
  {
   "cell_type": "code",
   "execution_count": 47,
   "metadata": {},
   "outputs": [],
   "source": [
    "df.dropna(inplace=True)"
   ]
  },
  {
   "cell_type": "code",
   "execution_count": 48,
   "metadata": {},
   "outputs": [
    {
     "data": {
      "text/html": [
       "<div>\n",
       "<style scoped>\n",
       "    .dataframe tbody tr th:only-of-type {\n",
       "        vertical-align: middle;\n",
       "    }\n",
       "\n",
       "    .dataframe tbody tr th {\n",
       "        vertical-align: top;\n",
       "    }\n",
       "\n",
       "    .dataframe thead th {\n",
       "        text-align: right;\n",
       "    }\n",
       "</style>\n",
       "<table border=\"1\" class=\"dataframe\">\n",
       "  <thead>\n",
       "    <tr style=\"text-align: right;\">\n",
       "      <th></th>\n",
       "      <th>age</th>\n",
       "      <th>job</th>\n",
       "      <th>marital</th>\n",
       "      <th>education</th>\n",
       "      <th>default</th>\n",
       "      <th>balance</th>\n",
       "      <th>housing</th>\n",
       "      <th>loan</th>\n",
       "      <th>contact</th>\n",
       "      <th>day</th>\n",
       "      <th>month</th>\n",
       "      <th>duration</th>\n",
       "      <th>campaign</th>\n",
       "      <th>pdays</th>\n",
       "      <th>previous</th>\n",
       "      <th>poutcome</th>\n",
       "      <th>Target</th>\n",
       "    </tr>\n",
       "  </thead>\n",
       "  <tbody>\n",
       "    <tr>\n",
       "      <th>24060</th>\n",
       "      <td>33</td>\n",
       "      <td>3.0</td>\n",
       "      <td>0</td>\n",
       "      <td>1</td>\n",
       "      <td>0</td>\n",
       "      <td>882</td>\n",
       "      <td>0</td>\n",
       "      <td>0</td>\n",
       "      <td>1.0</td>\n",
       "      <td>21</td>\n",
       "      <td>9</td>\n",
       "      <td>39</td>\n",
       "      <td>1</td>\n",
       "      <td>151</td>\n",
       "      <td>3</td>\n",
       "      <td>0.0</td>\n",
       "      <td>0</td>\n",
       "    </tr>\n",
       "    <tr>\n",
       "      <th>24062</th>\n",
       "      <td>42</td>\n",
       "      <td>3.0</td>\n",
       "      <td>1</td>\n",
       "      <td>0</td>\n",
       "      <td>0</td>\n",
       "      <td>247</td>\n",
       "      <td>1</td>\n",
       "      <td>1</td>\n",
       "      <td>1.0</td>\n",
       "      <td>21</td>\n",
       "      <td>9</td>\n",
       "      <td>519</td>\n",
       "      <td>1</td>\n",
       "      <td>166</td>\n",
       "      <td>1</td>\n",
       "      <td>1.0</td>\n",
       "      <td>1</td>\n",
       "    </tr>\n",
       "    <tr>\n",
       "      <th>24064</th>\n",
       "      <td>33</td>\n",
       "      <td>4.0</td>\n",
       "      <td>0</td>\n",
       "      <td>0</td>\n",
       "      <td>0</td>\n",
       "      <td>3444</td>\n",
       "      <td>1</td>\n",
       "      <td>0</td>\n",
       "      <td>1.0</td>\n",
       "      <td>21</td>\n",
       "      <td>9</td>\n",
       "      <td>144</td>\n",
       "      <td>1</td>\n",
       "      <td>91</td>\n",
       "      <td>4</td>\n",
       "      <td>0.0</td>\n",
       "      <td>1</td>\n",
       "    </tr>\n",
       "    <tr>\n",
       "      <th>24072</th>\n",
       "      <td>36</td>\n",
       "      <td>1.0</td>\n",
       "      <td>0</td>\n",
       "      <td>1</td>\n",
       "      <td>0</td>\n",
       "      <td>2415</td>\n",
       "      <td>1</td>\n",
       "      <td>0</td>\n",
       "      <td>1.0</td>\n",
       "      <td>22</td>\n",
       "      <td>9</td>\n",
       "      <td>73</td>\n",
       "      <td>1</td>\n",
       "      <td>86</td>\n",
       "      <td>4</td>\n",
       "      <td>1.0</td>\n",
       "      <td>0</td>\n",
       "    </tr>\n",
       "    <tr>\n",
       "      <th>24077</th>\n",
       "      <td>36</td>\n",
       "      <td>1.0</td>\n",
       "      <td>0</td>\n",
       "      <td>1</td>\n",
       "      <td>0</td>\n",
       "      <td>0</td>\n",
       "      <td>1</td>\n",
       "      <td>0</td>\n",
       "      <td>1.0</td>\n",
       "      <td>23</td>\n",
       "      <td>9</td>\n",
       "      <td>140</td>\n",
       "      <td>1</td>\n",
       "      <td>143</td>\n",
       "      <td>3</td>\n",
       "      <td>0.0</td>\n",
       "      <td>1</td>\n",
       "    </tr>\n",
       "  </tbody>\n",
       "</table>\n",
       "</div>"
      ],
      "text/plain": [
       "       age  job  marital  education  default  balance  housing  loan  contact  \\\n",
       "24060   33  3.0        0          1        0      882        0     0      1.0   \n",
       "24062   42  3.0        1          0        0      247        1     1      1.0   \n",
       "24064   33  4.0        0          0        0     3444        1     0      1.0   \n",
       "24072   36  1.0        0          1        0     2415        1     0      1.0   \n",
       "24077   36  1.0        0          1        0        0        1     0      1.0   \n",
       "\n",
       "       day  month  duration  campaign  pdays  previous  poutcome  Target  \n",
       "24060   21      9        39         1    151         3       0.0       0  \n",
       "24062   21      9       519         1    166         1       1.0       1  \n",
       "24064   21      9       144         1     91         4       0.0       1  \n",
       "24072   22      9        73         1     86         4       1.0       0  \n",
       "24077   23      9       140         1    143         3       0.0       1  "
      ]
     },
     "execution_count": 48,
     "metadata": {},
     "output_type": "execute_result"
    }
   ],
   "source": [
    "df.head()"
   ]
  },
  {
   "cell_type": "markdown",
   "metadata": {},
   "source": [
    "### Treatment of outliers\n",
    "\n",
    "We can handle outliers using\n",
    "\n",
    "a) Log Transformation\n",
    "\n",
    "b) Replacing Outliers with Central Values such as Median\n",
    "\n",
    "c) Drop the outliers if there is no significant data loss\n",
    "\n",
    "I will go with the log transformation strategy"
   ]
  },
  {
   "cell_type": "code",
   "execution_count": 49,
   "metadata": {},
   "outputs": [
    {
     "name": "stdout",
     "output_type": "stream",
     "text": [
      "age : value of skewness before log transformation 0.9695033219274147\n",
      "age : value of skewness after log transformation 0.29879608926157075\n",
      "\n",
      "balance : value of skewness before log transformation 8.22372139975035\n",
      "balance : value of skewness after log transformation -1.2976537028361776\n",
      "\n",
      "duration : value of skewness before log transformation 2.553623000884499\n",
      "duration : value of skewness after log transformation -0.6205052626733906\n",
      "\n",
      "campaign : value of skewness before log transformation 2.4253351754668144\n",
      "campaign : value of skewness after log transformation 0.8101905437508174\n",
      "\n",
      "pdays : value of skewness before log transformation 0.5084835683976185\n",
      "pdays : value of skewness after log transformation -2.6611329444205287\n",
      "\n",
      "previous : value of skewness before log transformation 27.952769104558296\n",
      "previous : value of skewness after log transformation 0.7008101840377485\n",
      "\n"
     ]
    }
   ],
   "source": [
    "columns_with_outliers = ['age', 'balance', 'duration', 'campaign', 'pdays', 'previous']\n",
    "\n",
    "for column in columns_with_outliers:\n",
    "    print column, \": value of skewness before log transformation\", df[column].skew()\n",
    "    df[column] = df[column].map(lambda i: np.log(i) if i > 0 else 0)\n",
    "    print column, \": value of skewness after log transformation\", df[column].skew()\n",
    "    print\n",
    "    "
   ]
  },
  {
   "cell_type": "markdown",
   "metadata": {},
   "source": [
    "we can see that we were able to handle the skewness of age, balance, duration, campaign while pdays and previous still seem to be skewed"
   ]
  },
  {
   "cell_type": "markdown",
   "metadata": {},
   "source": [
    "#### Visualizing the data after outlier treatment"
   ]
  },
  {
   "cell_type": "code",
   "execution_count": 50,
   "metadata": {},
   "outputs": [
    {
     "data": {
      "image/png": "[encoded data removed]",
      "text/plain": [
       "<Figure size 432x288 with 1 Axes>"
      ]
     },
     "metadata": {
      "needs_background": "light"
     },
     "output_type": "display_data"
    },
    {
     "data": {
      "image/png": "[encoded data removed]",
      "text/plain": [
       "<Figure size 432x288 with 1 Axes>"
      ]
     },
     "metadata": {
      "needs_background": "light"
     },
     "output_type": "display_data"
    },
    {
     "data": {
      "image/png": "[encoded data removed]",
      "text/plain": [
       "<Figure size 432x288 with 1 Axes>"
      ]
     },
     "metadata": {
      "needs_background": "light"
     },
     "output_type": "display_data"
    },
    {
     "data": {
      "image/png": "[encoded data removed]",
      "text/plain": [
       "<Figure size 432x288 with 1 Axes>"
      ]
     },
     "metadata": {
      "needs_background": "light"
     },
     "output_type": "display_data"
    },
    {
     "data": {
      "image/png": "[encoded data removed]",
      "text/plain": [
       "<Figure size 432x288 with 1 Axes>"
      ]
     },
     "metadata": {
      "needs_background": "light"
     },
     "output_type": "display_data"
    },
    {
     "data": {
      "image/png": "[encoded data removed]",
      "text/plain": [
       "<Figure size 432x288 with 1 Axes>"
      ]
     },
     "metadata": {
      "needs_background": "light"
     },
     "output_type": "display_data"
    }
   ],
   "source": [
    "for column in columns_with_outliers:\n",
    "    sns.distplot(df[column])\n",
    "    plt.show()"
   ]
  },
  {
   "cell_type": "markdown",
   "metadata": {},
   "source": [
    "## Bivariate Analysis"
   ]
  },
  {
   "cell_type": "markdown",
   "metadata": {},
   "source": [
    "Using Pairplot"
   ]
  },
  {
   "cell_type": "code",
   "execution_count": null,
   "metadata": {},
   "outputs": [
    {
     "data": {
      "text/plain": [
       "<seaborn.axisgrid.PairGrid at 0x1a429f7f10>"
      ]
     },
     "execution_count": 51,
     "metadata": {},
     "output_type": "execute_result"
    }
   ],
   "source": [
    "sns.pairplot(df)"
   ]
  },
  {
   "cell_type": "markdown",
   "metadata": {},
   "source": [
    "Checking Correlation between the variables and the target"
   ]
  },
  {
   "cell_type": "code",
   "execution_count": null,
   "metadata": {},
   "outputs": [],
   "source": [
    "for column in list(df.columns):\n",
    "    cor = df[column].corr(df[\"Target\"])\n",
    "    print \"The correlation btw \", column, \"and target is \", cor\n",
    "    print\n",
    "    "
   ]
  },
  {
   "cell_type": "markdown",
   "metadata": {},
   "source": [
    "Using heatmap"
   ]
  },
  {
   "cell_type": "code",
   "execution_count": null,
   "metadata": {},
   "outputs": [],
   "source": [
    "plt.figure(figsize=(20,12))\n",
    "\n",
    "sns.heatmap(df.corr(),\n",
    "            annot=True,\n",
    "            linewidths=.5,\n",
    "            center=0,\n",
    "            cbar=False,\n",
    "            cmap=\"YlGnBu\")\n",
    "\n",
    "plt.show()"
   ]
  },
  {
   "cell_type": "markdown",
   "metadata": {},
   "source": [
    "Visualizing using boxplot"
   ]
  },
  {
   "cell_type": "code",
   "execution_count": null,
   "metadata": {},
   "outputs": [],
   "source": [
    "for column in list(df.columns):\n",
    "    sns.set(rc={'figure.figsize':(20,10)})\n",
    "    plt.hist([df['Target'], df[column]], color=['r','b'], alpha=0.5)\n",
    "    plt.show()\n",
    "    print \"Histogram plot for Target against \", column"
   ]
  },
  {
   "cell_type": "markdown",
   "metadata": {},
   "source": [
    "None of the variables has a very strong relationship with the target variable\n",
    "\n",
    "poutcome seems to have the best correlation however\n",
    "\n",
    "I am selecting the following: 'housing', 'poutcome', 'duration', 'education', 'pdays', 'loan', 'age', 'campaign', 'day', 'default', 'previous', 'balance', 'job' \n",
    "\n",
    "Adding month, contact and marital seem to reduce the overall performance of the models, contact and marital also have the weakest correlation with the target variable"
   ]
  },
  {
   "cell_type": "markdown",
   "metadata": {},
   "source": [
    "# Prepare the data for analytics"
   ]
  },
  {
   "cell_type": "code",
   "execution_count": null,
   "metadata": {},
   "outputs": [],
   "source": [
    "# checking attribute datatypes\n",
    "df.dtypes\n",
    "# all the attributes seem to be in the right data type, that is numeric"
   ]
  },
  {
   "cell_type": "markdown",
   "metadata": {},
   "source": [
    "### 2. Get the data model ready."
   ]
  },
  {
   "cell_type": "code",
   "execution_count": null,
   "metadata": {},
   "outputs": [],
   "source": [
    "x = df[['housing', 'poutcome', 'duration', 'education', 'pdays', 'loan', 'age', 'campaign', 'day', 'default', 'previous', 'balance', 'job']]\n",
    "y = df[['Target']]\n"
   ]
  },
  {
   "cell_type": "markdown",
   "metadata": {},
   "source": [
    "### 3. Transform the data i.e. scale / normalize if required"
   ]
  },
  {
   "cell_type": "code",
   "execution_count": null,
   "metadata": {},
   "outputs": [],
   "source": [
    "# During the data cleaning of pollution step we had already done a logarithm transformation on the dat, whats left now\n",
    "# is the dummy variables transformation\n",
    "x = pd.get_dummies(x, drop_first=True)"
   ]
  },
  {
   "cell_type": "markdown",
   "metadata": {},
   "source": [
    "### 4. Create the training set and test set in ratio of 70:30"
   ]
  },
  {
   "cell_type": "code",
   "execution_count": null,
   "metadata": {},
   "outputs": [],
   "source": [
    "x_train, x_test, y_train, y_test = train_test_split(x, y, random_state=1, test_size=0.3)"
   ]
  },
  {
   "cell_type": "markdown",
   "metadata": {},
   "source": [
    "## Create Ensemble model"
   ]
  },
  {
   "cell_type": "markdown",
   "metadata": {},
   "source": [
    "### 1.1 model using Logistic Regression "
   ]
  },
  {
   "cell_type": "code",
   "execution_count": null,
   "metadata": {},
   "outputs": [],
   "source": [
    "from sklearn.metrics import confusion_matrix, recall_score, precision_score, f1_score, roc_auc_score,accuracy_score\n",
    "from sklearn.linear_model import LogisticRegression\n",
    "\n",
    "logreg = LogisticRegression(random_state=42)\n",
    "logreg.fit(x_train, y_train)"
   ]
  },
  {
   "cell_type": "code",
   "execution_count": null,
   "metadata": {},
   "outputs": [],
   "source": [
    "y_predict = logreg.predict(x_test)"
   ]
  },
  {
   "cell_type": "code",
   "execution_count": null,
   "metadata": {},
   "outputs": [],
   "source": [
    "## function to get confusion matrix in a proper format\n",
    "def draw_cm( actual, predicted ):\n",
    "    cm = confusion_matrix( actual, predicted)\n",
    "    sns.heatmap(cm, annot=True,  fmt='.2f', xticklabels = [0,1] , yticklabels = [0,1] )\n",
    "    plt.ylabel('Observed')\n",
    "    plt.xlabel('Predicted')\n",
    "    plt.show()"
   ]
  },
  {
   "cell_type": "code",
   "execution_count": null,
   "metadata": {},
   "outputs": [],
   "source": [
    "print \"Trainig accuracy\",logreg.score(x_train,y_train)\n",
    "print\n",
    "print \"Testing accuracy\",logreg.score(x_test, y_test)\n",
    "print\n",
    "print 'Confusion Matrix'\n",
    "print draw_cm(y_test,y_predict)\n",
    "print\n",
    "print \"Recall:\",recall_score(y_test,y_predict)\n",
    "print\n",
    "print \"Precision:\",precision_score(y_test,y_predict)\n",
    "print\n",
    "print \"F1 Score:\",f1_score(y_test,y_predict)\n",
    "print\n",
    "print \"Roc Auc Score:\",roc_auc_score(y_test,y_predict)"
   ]
  },
  {
   "cell_type": "markdown",
   "metadata": {},
   "source": [
    "### 1.2 model using Decision Tree algorithm"
   ]
  },
  {
   "cell_type": "code",
   "execution_count": null,
   "metadata": {},
   "outputs": [],
   "source": [
    "from sklearn.tree import DecisionTreeClassifier\n",
    "dTree = DecisionTreeClassifier(criterion = 'gini', max_depth = 3, random_state=1)\n",
    "dTree.fit(x_train, y_train)"
   ]
  },
  {
   "cell_type": "code",
   "execution_count": null,
   "metadata": {},
   "outputs": [],
   "source": [
    "print(dTree.score(x_train, y_train))\n",
    "print(dTree.score(x_test, y_test))"
   ]
  },
  {
   "cell_type": "code",
   "execution_count": null,
   "metadata": {},
   "outputs": [],
   "source": [
    "y_predict = dTree.predict(x_test)\n",
    "\n",
    "cm=metrics.confusion_matrix(y_test, y_predict, labels=[0, 1])\n",
    "\n",
    "df_cm = pd.DataFrame(cm, index = [i for i in [\"No\",\"Yes\"]],\n",
    "                  columns = [i for i in [\"No\",\"Yes\"]])\n",
    "plt.figure(figsize = (7,5))\n",
    "sns.heatmap(df_cm, annot=True ,fmt='g')\n",
    "plt.show()\n",
    "print\n",
    "print \"Recall:\",recall_score(y_test,y_predict)\n",
    "print\n",
    "print \"Precision:\",precision_score(y_test,y_predict)\n",
    "print\n",
    "print \"F1 Score:\",f1_score(y_test,y_predict)\n",
    "print\n",
    "print \"Roc Auc Score:\",roc_auc_score(y_test,y_predict)"
   ]
  },
  {
   "cell_type": "code",
   "execution_count": null,
   "metadata": {},
   "outputs": [],
   "source": [
    "# importance of features in the tree building ( The importance of a feature is computed as the \n",
    "#(normalized) total reduction of the criterion brought by that feature. It is also known as the Gini importance )\n",
    "\n",
    "print (pd.DataFrame(dTree.feature_importances_, columns = [\"Imp\"], index = x_train.columns))"
   ]
  },
  {
   "cell_type": "markdown",
   "metadata": {},
   "source": [
    "#### From the feature importance dataframe we can infer that poutcome, duration and housing are the variables that impact wine quality"
   ]
  },
  {
   "cell_type": "markdown",
   "metadata": {},
   "source": [
    "### 2.1 model using ensemble - Bagging"
   ]
  },
  {
   "cell_type": "code",
   "execution_count": null,
   "metadata": {},
   "outputs": [],
   "source": [
    "from sklearn.tree import DecisionTreeClassifier\n",
    "model_entropy = DecisionTreeClassifier(criterion='entropy')"
   ]
  },
  {
   "cell_type": "code",
   "execution_count": null,
   "metadata": {},
   "outputs": [],
   "source": [
    "model_entropy.fit(x_train, y_train)"
   ]
  },
  {
   "cell_type": "markdown",
   "metadata": {},
   "source": [
    "#### Print the accuracy of the model & print the confusion matrix"
   ]
  },
  {
   "cell_type": "code",
   "execution_count": null,
   "metadata": {},
   "outputs": [],
   "source": [
    "print(\"Train: %.2f\" % model_entropy.score(x_train, y_train))  # performance on train data\n",
    "print(\"Test: %.2f\" % model_entropy.score(x_test, y_test))  # performance on test data"
   ]
  },
  {
   "cell_type": "markdown",
   "metadata": {},
   "source": [
    "#### As seen above, the model is overfit. so we will use a max_depth of 3 to regularize and prune"
   ]
  },
  {
   "cell_type": "code",
   "execution_count": null,
   "metadata": {},
   "outputs": [],
   "source": [
    "clf_pruned = DecisionTreeClassifier(criterion = \"entropy\", max_depth=3)\n",
    "clf_pruned.fit(x_train, y_train)"
   ]
  },
  {
   "cell_type": "code",
   "execution_count": null,
   "metadata": {},
   "outputs": [],
   "source": [
    "print(\"Train: %.2f\" % clf_pruned.score(x_train, y_train))  # performance on train data\n",
    "print(\"Test: %.2f\" % clf_pruned.score(x_test, y_test))  # performance on test data"
   ]
  },
  {
   "cell_type": "code",
   "execution_count": null,
   "metadata": {},
   "outputs": [],
   "source": []
  },
  {
   "cell_type": "code",
   "execution_count": null,
   "metadata": {},
   "outputs": [],
   "source": [
    "# Confusion matrix\n",
    "preds_train = clf_pruned.predict(x_train)\n",
    "preds_test = clf_pruned.predict(x_test)\n",
    "\n",
    "acc_DT = accuracy_score(y_test, preds_test)\n",
    "# pd.crosstab(y_test, preds_test, rownames=['Actual'], colnames=['Predicted'])\n",
    "cm=metrics.confusion_matrix(y_test, preds_test, labels=[0, 1])\n",
    "\n",
    "df_cm = pd.DataFrame(cm, index = [i for i in [\"No\",\"Yes\"]],\n",
    "                  columns = [i for i in [\"No\",\"Yes\"]])\n",
    "plt.figure(figsize = (7,5))\n",
    "sns.heatmap(df_cm, annot=True ,fmt='g')\n",
    "plt.show()\n",
    "print\n",
    "print \"Recall:\",recall_score(y_test,preds_test)\n",
    "print\n",
    "print \"Precision:\",precision_score(y_test,preds_test)\n",
    "print\n",
    "print \"F1 Score:\",f1_score(y_test,preds_test)\n",
    "print\n",
    "print \"Roc Auc Score:\",roc_auc_score(y_test,preds_test)"
   ]
  },
  {
   "cell_type": "code",
   "execution_count": null,
   "metadata": {},
   "outputs": [],
   "source": [
    "## Calculating feature importance\n",
    "features = [col for col in df.columns if col != 'Target']\n",
    "\n",
    "feat_importance = clf_pruned.tree_.compute_feature_importances(normalize=False)\n",
    "\n",
    "\n",
    "feat_imp_dict = dict(zip(features, clf_pruned.feature_importances_))\n",
    "feat_imp = pd.DataFrame.from_dict(feat_imp_dict, orient='index')\n",
    "feat_imp.sort_values(by=0, ascending=False)"
   ]
  },
  {
   "cell_type": "markdown",
   "metadata": {},
   "source": [
    "#### From the feature importance dataframe, similar to that of the decision tree, we can infer that poutcome, duration and housing are the variables that impact wine quality"
   ]
  },
  {
   "cell_type": "code",
   "execution_count": null,
   "metadata": {
    "scrolled": true
   },
   "outputs": [],
   "source": [
    "#Store the accuracy results for each model in a dataframe for final comparison\n",
    "resultsDf = pd.DataFrame({'Method':['Decision Tree'], 'accuracy': acc_DT})\n",
    "resultsDf = resultsDf[['Method', 'accuracy']]\n",
    "resultsDf"
   ]
  },
  {
   "cell_type": "markdown",
   "metadata": {},
   "source": [
    "### Apply the Random forest model and print the accuracy of Random forest Model"
   ]
  },
  {
   "cell_type": "code",
   "execution_count": null,
   "metadata": {},
   "outputs": [],
   "source": [
    "from sklearn.ensemble import RandomForestClassifier\n",
    "rfcl = RandomForestClassifier(n_estimators = 50)\n",
    "rfcl = rfcl.fit(x_train, y_train)"
   ]
  },
  {
   "cell_type": "code",
   "execution_count": null,
   "metadata": {},
   "outputs": [],
   "source": [
    "pred_RF = rfcl.predict(x_test)\n",
    "acc_RF = accuracy_score(y_test, pred_RF)\n",
    "\n",
    "cm=metrics.confusion_matrix(y_test, pred_RF, labels=[0, 1])\n",
    "\n",
    "df_cm = pd.DataFrame(cm, index = [i for i in [\"No\",\"Yes\"]],\n",
    "                  columns = [i for i in [\"No\",\"Yes\"]])\n",
    "plt.figure(figsize = (7,5))\n",
    "sns.heatmap(df_cm, annot=True ,fmt='g')\n",
    "plt.show()\n",
    "print\n",
    "print \"accuracy:\", acc_RF\n",
    "print\n",
    "print \"Recall:\",recall_score(y_test,pred_RF)\n",
    "print\n",
    "print \"Precision:\",precision_score(y_test,pred_RF)\n",
    "print\n",
    "print \"F1 Score:\",f1_score(y_test,pred_RF)\n",
    "print\n",
    "print \"Roc Auc Score:\",roc_auc_score(y_test,pred_RF)"
   ]
  },
  {
   "cell_type": "code",
   "execution_count": null,
   "metadata": {},
   "outputs": [],
   "source": [
    "tempResultsDf = pd.DataFrame({'Method':['Random Forest'], 'accuracy': [acc_RF]})\n",
    "resultsDf = pd.concat([resultsDf, tempResultsDf])\n",
    "resultsDf = resultsDf[['Method', 'accuracy']]\n",
    "resultsDf"
   ]
  },
  {
   "cell_type": "markdown",
   "metadata": {},
   "source": [
    "### 2.2 model using ensemble - Boosting"
   ]
  },
  {
   "cell_type": "code",
   "execution_count": null,
   "metadata": {},
   "outputs": [],
   "source": [
    "# Apply Adaboost Ensemble Algorithm for the same data and print the accuracy.\n",
    "from sklearn.ensemble import AdaBoostClassifier\n",
    "abcl = AdaBoostClassifier(n_estimators = 100, learning_rate=0.1, random_state=22)\n",
    "abcl = abcl.fit(x_train, y_train)"
   ]
  },
  {
   "cell_type": "code",
   "execution_count": null,
   "metadata": {},
   "outputs": [],
   "source": [
    "pred_AB =abcl.predict(x_test)\n",
    "acc_AB = accuracy_score(y_test, pred_AB)\n",
    "\n",
    "cm=metrics.confusion_matrix(y_test, pred_AB, labels=[0, 1])\n",
    "\n",
    "df_cm = pd.DataFrame(cm, index = [i for i in [\"No\",\"Yes\"]],\n",
    "                  columns = [i for i in [\"No\",\"Yes\"]])\n",
    "plt.figure(figsize = (7,5))\n",
    "sns.heatmap(df_cm, annot=True ,fmt='g')\n",
    "plt.show()\n",
    "print\n",
    "print \"accuracy:\", acc_AB\n",
    "print\n",
    "print \"Recall:\",recall_score(y_test,pred_AB)\n",
    "print\n",
    "print \"Precision:\",precision_score(y_test,pred_AB)\n",
    "print\n",
    "print \"F1 Score:\",f1_score(y_test,pred_AB)\n",
    "print\n",
    "print \"Roc Auc Score:\",roc_auc_score(y_test,pred_AB)"
   ]
  },
  {
   "cell_type": "code",
   "execution_count": null,
   "metadata": {},
   "outputs": [],
   "source": [
    "tempResultsDf = pd.DataFrame({'Method':['Adaboost'], 'accuracy': [acc_AB]})\n",
    "resultsDf = pd.concat([resultsDf, tempResultsDf])\n",
    "resultsDf = resultsDf[['Method', 'accuracy']]\n",
    "resultsDf"
   ]
  },
  {
   "cell_type": "markdown",
   "metadata": {},
   "source": [
    "### Apply Bagging Classifier Algorithm and print the accuracy."
   ]
  },
  {
   "cell_type": "code",
   "execution_count": null,
   "metadata": {},
   "outputs": [],
   "source": [
    "from sklearn.ensemble import BaggingClassifier\n",
    "\n",
    "bgcl = BaggingClassifier(n_estimators=50, max_samples= .7, bootstrap=True, oob_score=True, random_state=22)\n",
    "bgcl = bgcl.fit(x_train, y_train)"
   ]
  },
  {
   "cell_type": "code",
   "execution_count": null,
   "metadata": {},
   "outputs": [],
   "source": [
    "pred_BG = bgcl.predict(x_test)\n",
    "acc_BG = accuracy_score(y_test, pred_BG)\n",
    "\n",
    "cm=metrics.confusion_matrix(y_test, pred_BG, labels=[0, 1])\n",
    "\n",
    "df_cm = pd.DataFrame(cm, index = [i for i in [\"No\",\"Yes\"]],\n",
    "                  columns = [i for i in [\"No\",\"Yes\"]])\n",
    "plt.figure(figsize = (7,5))\n",
    "sns.heatmap(df_cm, annot=True ,fmt='g')\n",
    "plt.show()\n",
    "print\n",
    "print \"accuracy:\", acc_BG\n",
    "print\n",
    "print \"Recall:\",recall_score(y_test,pred_BG)\n",
    "print\n",
    "print \"Precision:\",precision_score(y_test,pred_BG)\n",
    "print\n",
    "print \"F1 Score:\",f1_score(y_test,pred_BG)\n",
    "print\n",
    "print \"Roc Auc Score:\",roc_auc_score(y_test,pred_BG)"
   ]
  },
  {
   "cell_type": "code",
   "execution_count": null,
   "metadata": {},
   "outputs": [],
   "source": [
    "tempResultsDf = pd.DataFrame({'Method':['Bagging'], 'accuracy': [acc_BG]})\n",
    "resultsDf = pd.concat([resultsDf, tempResultsDf])\n",
    "resultsDf = resultsDf[['Method', 'accuracy']]\n",
    "resultsDf"
   ]
  },
  {
   "cell_type": "markdown",
   "metadata": {},
   "source": [
    "### Apply Bagging Classifier Algorithm and print the accuracy."
   ]
  },
  {
   "cell_type": "code",
   "execution_count": null,
   "metadata": {},
   "outputs": [],
   "source": [
    "from sklearn.ensemble import GradientBoostingClassifier\n",
    "gbcl = GradientBoostingClassifier(n_estimators = 50, learning_rate = 0.1, random_state=22)\n",
    "gbcl = gbcl.fit(x_train, y_train)"
   ]
  },
  {
   "cell_type": "code",
   "execution_count": null,
   "metadata": {},
   "outputs": [],
   "source": [
    "pred_GB = gbcl.predict(x_test)\n",
    "acc_GB = accuracy_score(y_test, pred_GB)\n",
    "\n",
    "cm=metrics.confusion_matrix(y_test, pred_GB, labels=[0, 1])\n",
    "\n",
    "df_cm = pd.DataFrame(cm, index = [i for i in [\"No\",\"Yes\"]],\n",
    "                  columns = [i for i in [\"No\",\"Yes\"]])\n",
    "plt.figure(figsize = (7,5))\n",
    "sns.heatmap(df_cm, annot=True ,fmt='g')\n",
    "plt.show()\n",
    "print\n",
    "print \"accuracy:\", acc_GB\n",
    "print\n",
    "print \"Recall:\",recall_score(y_test,pred_GB)\n",
    "print\n",
    "print \"Precision:\",precision_score(y_test,pred_GB)\n",
    "print\n",
    "print \"F1 Score:\",f1_score(y_test,pred_GB)\n",
    "print\n",
    "print \"Roc Auc Score:\",roc_auc_score(y_test,pred_GB)"
   ]
  },
  {
   "cell_type": "code",
   "execution_count": null,
   "metadata": {},
   "outputs": [],
   "source": [
    "tempResultsDf = pd.DataFrame({'Method':['Gradient Boost'], 'accuracy': [acc_GB]})\n",
    "resultsDf = pd.concat([resultsDf, tempResultsDf])\n",
    "resultsDf = resultsDf[['Method', 'accuracy']]\n",
    "resultsDf"
   ]
  },
  {
   "cell_type": "code",
   "execution_count": null,
   "metadata": {},
   "outputs": [],
   "source": []
  },
  {
   "cell_type": "code",
   "execution_count": null,
   "metadata": {},
   "outputs": [],
   "source": []
  },
  {
   "cell_type": "code",
   "execution_count": null,
   "metadata": {},
   "outputs": [],
   "source": []
  },
  {
   "cell_type": "code",
   "execution_count": null,
   "metadata": {},
   "outputs": [],
   "source": [
    "# "
   ]
  }
 ],
 "metadata": {
  "kernelspec": {
   "display_name": "Python 2",
   "language": "python",
   "name": "python2"
  },
  "language_info": {
   "codemirror_mode": {
    "name": "ipython",
    "version": 2
   },
   "file_extension": ".py",
   "mimetype": "text/x-python",
   "name": "python",
   "nbconvert_exporter": "python",
   "pygments_lexer": "ipython2",
   "version": "2.7.16"
  }
 },
 "nbformat": 4,
 "nbformat_minor": 2
}
